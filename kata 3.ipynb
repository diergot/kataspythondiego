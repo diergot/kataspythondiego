{
 "cells": [
  {
   "cell_type": "code",
   "execution_count": 7,
   "metadata": {},
   "outputs": [
    {
     "name": "stdout",
     "output_type": "stream",
     "text": [
      "Advertencia de asteroide cercano\n"
     ]
    }
   ],
   "source": [
    "asteroide = 49 \n",
    "if asteroide > 25:\n",
    "   print ('!!Advertencia de asteroide cercano!!')\n",
    "else:\n",
    "   print('Fuera de peligro') "
   ]
  },
  {
   "cell_type": "code",
   "execution_count": 12,
   "metadata": {},
   "outputs": [
    {
     "name": "stdout",
     "output_type": "stream",
     "text": [
      "Se podra apreciar una rayo de luz\n"
     ]
    }
   ],
   "source": [
    "asteroide = 25 \n",
    "if asteroide == 20:\n",
    "   print ('Se podra observar un rayos luz')\n",
    "elif asteroide > 20:\n",
    "   print ('Se podra apreciar una rayo de luz')  \n",
    "else:\n",
    "    print ('No se podra obervar un rayo de luz')    "
   ]
  },
  {
   "cell_type": "code",
   "execution_count": 19,
   "metadata": {},
   "outputs": [
    {
     "name": "stdout",
     "output_type": "stream",
     "text": [
      "Podras ver una bonita estela de luz pero ten precaucion con la velocida del asteroide\n"
     ]
    }
   ],
   "source": [
    "v_asteroide = 22\n",
    "t_asteroide = 22\n",
    "if v_asteroide and t_asteroide > 25:\n",
    "  print('!!PELIGRO DE IMPACTO DE ASTEROIDE!!')\n",
    "elif v_asteroide > 20 or v_asteroide == 20:\n",
    "     print ('Podras ver una bonita estela de luz, pero ese asteroide puede ir un poco mas rapido de lo normal')\n",
    "elif  t_asteroide < 25:\n",
    "    print('Todo tranquilo')\n",
    "else:\n",
    "    print('Todo tranquilo')             "
   ]
  }
 ],
 "metadata": {
  "interpreter": {
   "hash": "287139292b13157343d94177d7612bf433df375c97e5e857b93273813a0abf25"
  },
  "kernelspec": {
   "display_name": "Python 3.10.2 64-bit",
   "language": "python",
   "name": "python3"
  },
  "language_info": {
   "codemirror_mode": {
    "name": "ipython",
    "version": 3
   },
   "file_extension": ".py",
   "mimetype": "text/x-python",
   "name": "python",
   "nbconvert_exporter": "python",
   "pygments_lexer": "ipython3",
   "version": "3.10.2"
  },
  "orig_nbformat": 4
 },
 "nbformat": 4,
 "nbformat_minor": 2
}
