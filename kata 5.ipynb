{
 "cells": [
  {
   "cell_type": "markdown",
   "metadata": {},
   "source": [
    "\n",
    "Ejercicio1 - Utilizar operadores aritméticos"
   ]
  },
  {
   "cell_type": "code",
   "execution_count": 8,
   "metadata": {},
   "outputs": [
    {
     "name": "stdout",
     "output_type": "stream",
     "text": [
      "La distancia entre la tierra y jupiter es de: 628949330 kilometros\n",
      "En millas es: 390577533.93  Millas\n"
     ]
    }
   ],
   "source": [
    "tierra = 149597870 \n",
    "jupiter = 778547200 \n",
    "distancias = jupiter - tierra\n",
    "print('La distancia entre la tierra y jupiter es de: ' + str (distancias) + ' kilometros')\n",
    "print('En millas es: ' + str (distancias * 0.621) +  '  Millas')"
   ]
  },
  {
   "cell_type": "markdown",
   "metadata": {},
   "source": [
    "Ejercicio 2: convierte cadenas en números y usa valores absolutos"
   ]
  },
  {
   "cell_type": "code",
   "execution_count": 1,
   "metadata": {},
   "outputs": [
    {
     "name": "stdout",
     "output_type": "stream",
     "text": [
      "La distancia entre ambos planetas es de : 90  Kilometros\n",
      "En millas es: 55.89  Millas\n"
     ]
    }
   ],
   "source": [
    "planeta_uno = input('¿Cual es la distancia de este planeta respecto al sol?')\n",
    "planeta_dos = input('¿Cual es la distancia de este planeta respecto al sol?')\n",
    "p1 = int (planeta_uno)\n",
    "p2 = int (planeta_dos)\n",
    "print ( 'La distancia entre ambos planetas es de : ' + str (abs (p2 -p1)) + '  Kilometros')\n",
    "print('En millas es: ' + str (abs (p2 -p1) * 0.621) +  '  Millas')"
   ]
  },
  {
   "cell_type": "code",
   "execution_count": null,
   "metadata": {},
   "outputs": [],
   "source": []
  }
 ],
 "metadata": {
  "interpreter": {
   "hash": "287139292b13157343d94177d7612bf433df375c97e5e857b93273813a0abf25"
  },
  "kernelspec": {
   "display_name": "Python 3.10.2 64-bit",
   "language": "python",
   "name": "python3"
  },
  "language_info": {
   "codemirror_mode": {
    "name": "ipython",
    "version": 3
   },
   "file_extension": ".py",
   "mimetype": "text/x-python",
   "name": "python",
   "nbconvert_exporter": "python",
   "pygments_lexer": "ipython3",
   "version": "3.10.2"
  },
  "orig_nbformat": 4
 },
 "nbformat": 4,
 "nbformat_minor": 2
}
