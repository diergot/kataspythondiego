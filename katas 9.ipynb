{
 "cells": [
  {
   "cell_type": "markdown",
   "metadata": {},
   "source": [
    "kata inconclusa"
   ]
  },
  {
   "cell_type": "code",
   "execution_count": 3,
   "metadata": {},
   "outputs": [
    {
     "name": "stdout",
     "output_type": "stream",
     "text": [
      "Fuel Report:\n",
      "    Total Average: 78.33333333333333%\n",
      "    Main tank: 80%\n",
      "    External tank: 70%\n",
      "    Hydrogen tank: 85% \n",
      "    \n",
      "Fuel Report:\n",
      "    Total Average: 78.0%\n",
      "    Main tank: 88%\n",
      "    External tank: 76%\n",
      "    Hydrogen tank: 70% \n",
      "    \n"
     ]
    },
    {
     "ename": "TypeError",
     "evalue": "unsupported operand type(s) for +: 'int' and 'str'",
     "output_type": "error",
     "traceback": [
      "\u001b[1;31m---------------------------------------------------------------------------\u001b[0m",
      "\u001b[1;31mTypeError\u001b[0m                                 Traceback (most recent call last)",
      "\u001b[1;32mc:\\Users\\MR DX\\Documents\\katas 9.ipynb Cell 1'\u001b[0m in \u001b[0;36m<module>\u001b[1;34m\u001b[0m\n\u001b[0;32m     <a href='vscode-notebook-cell:/c%3A/Users/MR%20DX/Documents/katas%209.ipynb#ch0000000?line=27'>28</a>\u001b[0m     \u001b[39mreturn\u001b[39;00m \u001b[39mf\u001b[39m\u001b[39m\"\"\"\u001b[39m\u001b[39mFuel Report:\u001b[39m\n\u001b[0;32m     <a href='vscode-notebook-cell:/c%3A/Users/MR%20DX/Documents/katas%209.ipynb#ch0000000?line=28'>29</a>\u001b[0m \u001b[39m    Total Average: \u001b[39m\u001b[39m{\u001b[39;00maverage([main_tank, external_tank, hydrogen_tank])\u001b[39m}\u001b[39;00m\u001b[39m%\u001b[39m\n\u001b[0;32m     <a href='vscode-notebook-cell:/c%3A/Users/MR%20DX/Documents/katas%209.ipynb#ch0000000?line=29'>30</a>\u001b[0m \u001b[39m    Main tank: \u001b[39m\u001b[39m{\u001b[39;00mmain_tank\u001b[39m}\u001b[39;00m\u001b[39m%\u001b[39m\n\u001b[0;32m     <a href='vscode-notebook-cell:/c%3A/Users/MR%20DX/Documents/katas%209.ipynb#ch0000000?line=30'>31</a>\u001b[0m \u001b[39m    External tank: \u001b[39m\u001b[39m{\u001b[39;00mexternal_tank\u001b[39m}\u001b[39;00m\u001b[39m%\u001b[39m\n\u001b[0;32m     <a href='vscode-notebook-cell:/c%3A/Users/MR%20DX/Documents/katas%209.ipynb#ch0000000?line=31'>32</a>\u001b[0m \u001b[39m    Hydrogen tank: \u001b[39m\u001b[39m{\u001b[39;00mhydrogen_tank\u001b[39m}\u001b[39;00m\u001b[39m% \u001b[39m\n\u001b[0;32m     <a href='vscode-notebook-cell:/c%3A/Users/MR%20DX/Documents/katas%209.ipynb#ch0000000?line=32'>33</a>\u001b[0m \u001b[39m    \u001b[39m\u001b[39m\"\"\"\u001b[39m\n\u001b[0;32m     <a href='vscode-notebook-cell:/c%3A/Users/MR%20DX/Documents/katas%209.ipynb#ch0000000?line=35'>36</a>\u001b[0m \u001b[39mprint\u001b[39m(generate_report(\u001b[39m88\u001b[39m, \u001b[39m76\u001b[39m, \u001b[39m70\u001b[39m))\n\u001b[1;32m---> <a href='vscode-notebook-cell:/c%3A/Users/MR%20DX/Documents/katas%209.ipynb#ch0000000?line=42'>43</a>\u001b[0m \u001b[39mprint\u001b[39m(mission_report(\u001b[39m14\u001b[39;49m, \u001b[39m51\u001b[39;49m, \u001b[39m\"\u001b[39;49m\u001b[39mMoon\u001b[39;49m\u001b[39m\"\u001b[39;49m, \u001b[39m200000\u001b[39;49m, \u001b[39m300000\u001b[39;49m))\n",
      "\u001b[1;32mc:\\Users\\MR DX\\Documents\\katas 9.ipynb Cell 2'\u001b[0m in \u001b[0;36mmission_report\u001b[1;34m(destination, *minutes, **fuel_reservoirs)\u001b[0m\n\u001b[0;32m     <a href='vscode-notebook-cell:/c%3A/Users/MR%20DX/Documents/katas%209.ipynb#ch0000001?line=28'>29</a>\u001b[0m \u001b[39mdef\u001b[39;00m \u001b[39mmission_report\u001b[39m(destination, \u001b[39m*\u001b[39mminutes, \u001b[39m*\u001b[39m\u001b[39m*\u001b[39mfuel_reservoirs):\n\u001b[0;32m     <a href='vscode-notebook-cell:/c%3A/Users/MR%20DX/Documents/katas%209.ipynb#ch0000001?line=29'>30</a>\u001b[0m     main_report \u001b[39m=\u001b[39m \u001b[39mf\u001b[39m\u001b[39m\"\"\"\u001b[39m\n\u001b[0;32m     <a href='vscode-notebook-cell:/c%3A/Users/MR%20DX/Documents/katas%209.ipynb#ch0000001?line=30'>31</a>\u001b[0m \u001b[39m    Mission to \u001b[39m\u001b[39m{\u001b[39;00mdestination\u001b[39m}\u001b[39;00m\n\u001b[1;32m---> <a href='vscode-notebook-cell:/c%3A/Users/MR%20DX/Documents/katas%209.ipynb#ch0000001?line=31'>32</a>\u001b[0m \u001b[39m    Total travel time: \u001b[39m\u001b[39m{\u001b[39;00m\u001b[39msum\u001b[39m(minutes)\u001b[39m}\u001b[39;00m\u001b[39m minutes\u001b[39m\n\u001b[0;32m     <a href='vscode-notebook-cell:/c%3A/Users/MR%20DX/Documents/katas%209.ipynb#ch0000001?line=32'>33</a>\u001b[0m \u001b[39m    Total fuel left: \u001b[39m\u001b[39m{\u001b[39;00m\u001b[39msum\u001b[39m(fuel_reservoirs\u001b[39m.\u001b[39mvalues())\u001b[39m}\u001b[39;00m\n\u001b[0;32m     <a href='vscode-notebook-cell:/c%3A/Users/MR%20DX/Documents/katas%209.ipynb#ch0000001?line=33'>34</a>\u001b[0m \u001b[39m    \u001b[39m\u001b[39m\"\"\"\u001b[39m\n\u001b[0;32m     <a href='vscode-notebook-cell:/c%3A/Users/MR%20DX/Documents/katas%209.ipynb#ch0000001?line=34'>35</a>\u001b[0m     \u001b[39mfor\u001b[39;00m tank_name, gallons \u001b[39min\u001b[39;00m fuel_reservoirs\u001b[39m.\u001b[39mitems():\n\u001b[0;32m     <a href='vscode-notebook-cell:/c%3A/Users/MR%20DX/Documents/katas%209.ipynb#ch0000001?line=35'>36</a>\u001b[0m         main_report \u001b[39m+\u001b[39m\u001b[39m=\u001b[39m \u001b[39mf\u001b[39m\u001b[39m\"\u001b[39m\u001b[39m{\u001b[39;00mtank_name\u001b[39m}\u001b[39;00m\u001b[39m tank --> \u001b[39m\u001b[39m{\u001b[39;00mgallons\u001b[39m}\u001b[39;00m\u001b[39m gallons left\u001b[39m\u001b[39m\\n\u001b[39;00m\u001b[39m\"\u001b[39m\n",
      "\u001b[1;31mTypeError\u001b[0m: unsupported operand type(s) for +: 'int' and 'str'"
     ]
    }
   ],
   "source": [
    "\n",
    "\n",
    "def generate_report(main_tank, external_tank, hydrogen_tank):\n",
    "    total_average = (main_tank + external_tank + hydrogen_tank) / 3\n",
    "    return f\"\"\"Fuel Report:\n",
    "    Total Average: {total_average}%\n",
    "    Main tank: {main_tank}%\n",
    "    External tank: {external_tank}%\n",
    "    Hydrogen tank: {hydrogen_tank}% \n",
    "    \"\"\"\n",
    "\n",
    "\n",
    "print(generate_report(80, 70, 85))\n",
    "\n",
    "\n",
    "\n",
    " \n",
    "def average(values):\n",
    "    total = sum(values)\n",
    "    number_of_items = len(values)\n",
    "    return total / number_of_items\n",
    "\n",
    "\n",
    "average([80, 85, 81])\n",
    "\n",
    "\n",
    "\n",
    "\n",
    "def generate_report(main_tank, external_tank, hydrogen_tank):\n",
    "    return f\"\"\"Fuel Report:\n",
    "    Total Average: {average([main_tank, external_tank, hydrogen_tank])}%\n",
    "    Main tank: {main_tank}%\n",
    "    External tank: {external_tank}%\n",
    "    Hydrogen tank: {hydrogen_tank}% \n",
    "    \"\"\"\n",
    "\n",
    "\n",
    "print(generate_report(88, 76, 70))\n",
    "\n",
    "\n",
    "\n",
    "\n",
    "\n",
    "\n",
    "print(mission_report(14, 51, \"Moon\", 200000, 300000))\n",
    "\n",
    "\n"
   ]
  },
  {
   "cell_type": "code",
   "execution_count": 2,
   "metadata": {},
   "outputs": [
    {
     "name": "stdout",
     "output_type": "stream",
     "text": [
      "\n",
      "    Mission to Moon\n",
      "    Total travel time: 65 minutes\n",
      "    Total fuel left: 500000 gallons\n",
      "    \n",
      "\n",
      "    Mission to Moon\n",
      "    Total travel time: 76 minutes\n",
      "    Total fuel left: 500000\n",
      "    \n",
      "\n",
      "    Mission to Moon\n",
      "    Total travel time: 74 minutes\n",
      "    Total fuel left: 500000\n",
      "    main tank --> 300000 gallons left\n",
      "external tank --> 200000 gallons left\n",
      "\n"
     ]
    }
   ],
   "source": [
    "# Función con un informe preciso de la misión. Considera hora de prelanzamiento, tiempo de vuelo, destino, tanque externo y tanque interno\n",
    "\n",
    "def mission_report(pre_launch_time, flight_time, destination, external_tank, main_tank):\n",
    "    return f\"\"\"\n",
    "    Mission to {destination}\n",
    "    Total travel time: {pre_launch_time + flight_time} minutes\n",
    "    Total fuel left: {external_tank + main_tank} gallons\n",
    "    \"\"\"\n",
    "\n",
    "print(mission_report(14, 51, \"Moon\", 200000, 300000))\n",
    "\n",
    "\n",
    "# Escribe tu nueva función de reporte considerando lo anterior\n",
    "\n",
    "def mission_report(destination, *minutes, **fuel_reservoirs):\n",
    "    return f\"\"\"\n",
    "    Mission to {destination}\n",
    "    Total travel time: {sum(minutes)} minutes\n",
    "    Total fuel left: {sum(fuel_reservoirs.values())}\n",
    "    \"\"\"\n",
    "\n",
    "print(mission_report(\"Moon\", 10, 15, 51, main=300000, external=200000))\n",
    "\n",
    "\n",
    "\n",
    "\n",
    "# Escribe tu nueva función\n",
    "\n",
    "def mission_report(destination, *minutes, **fuel_reservoirs):\n",
    "    main_report = f\"\"\"\n",
    "    Mission to {destination}\n",
    "    Total travel time: {sum(minutes)} minutes\n",
    "    Total fuel left: {sum(fuel_reservoirs.values())}\n",
    "    \"\"\"\n",
    "    for tank_name, gallons in fuel_reservoirs.items():\n",
    "        main_report += f\"{tank_name} tank --> {gallons} gallons left\\n\"\n",
    "    return main_report\n",
    "\n",
    "print(mission_report(\"Moon\", 8, 11, 55, main=300000, external=200000))\n",
    "\n"
   ]
  }
 ],
 "metadata": {
  "interpreter": {
   "hash": "287139292b13157343d94177d7612bf433df375c97e5e857b93273813a0abf25"
  },
  "kernelspec": {
   "display_name": "Python 3.10.2 64-bit",
   "language": "python",
   "name": "python3"
  },
  "language_info": {
   "codemirror_mode": {
    "name": "ipython",
    "version": 3
   },
   "file_extension": ".py",
   "mimetype": "text/x-python",
   "name": "python",
   "nbconvert_exporter": "python",
   "pygments_lexer": "ipython3",
   "version": "3.10.2"
  },
  "orig_nbformat": 4
 },
 "nbformat": 4,
 "nbformat_minor": 2
}
